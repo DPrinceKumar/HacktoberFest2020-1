{
 "cells": [
  {
   "cell_type": "code",
   "execution_count": 1,
   "metadata": {},
   "outputs": [
    {
     "name": "stdout",
     "output_type": "stream",
     "text": [
      "Enter your choice :\n",
      "1.english file\n",
      "2.hindi file\n",
      "3.your own text(in english)\n",
      "4.exit\n",
      "4\n"
     ]
    }
   ],
   "source": [
    "from gtts import gTTS\n",
    "import codecs\n",
    "import os\n",
    "ch=0\n",
    "while(ch!=4):\n",
    "    ch=int(input(\"Enter your choice :\\n1.english file\\n2.hindi file\\n3.your own text(in english)\\n4.exit\\n\"))\n",
    "    if(ch==1):\n",
    "        with open('english.txt', 'r') as reader:\n",
    "            t=reader.read()\n",
    "        audio=gTTS(text=t,lang='en',slow=False)\n",
    "        audio.save('english.mp3')\n",
    "        os.system(\"start english.mp3\")\n",
    "        \n",
    "    elif(ch==2):\n",
    "        with codecs.open('hindi.txt', encoding='utf-8') as f:\n",
    "            t = f.read()\n",
    "        audio=gTTS(text=t,lang='hi',slow=False)\n",
    "        audio.save('hindi.mp4')\n",
    "        os.system(\"start hindi.mp4\")\n",
    "    elif(ch==3):\n",
    "        t=input(\"enter your text here... \")\n",
    "        audio=gTTS(text=t,lang='en',slow=False)\n",
    "        audio.save('example.mp3')\n",
    "        os.system(\"start example.mp3\")\n",
    "    elif(ch==4):\n",
    "        exit(0)"
   ]
  },
  {
   "cell_type": "code",
   "execution_count": 1,
   "metadata": {},
   "outputs": [],
   "source": [
    "with open('english.txt', 'r') as reader:\n",
    "            t=reader.read()"
   ]
  },
  {
   "cell_type": "code",
   "execution_count": 2,
   "metadata": {},
   "outputs": [
    {
     "data": {
      "text/plain": [
       "'\"The Story of An Hour\"\\nKate Chopin (1894)\\nKnowing that Mrs. Mallard was afflicted with a heart trouble, great care was taken to break to her as gently as possible the news of her husband\\'s death.\\nIt was her sister Josephine who told her, in broken sentences; veiled hints that revealed in half concealing. Her husband\\'s friend Richards was there, too, near her. It was he who had been in the newspaper office when intelligence of the railroad disaster was received, with Brently Mallard\\'s name leading the list of \"killed.\" He had only taken the time to assure himself of its truth by a second telegram, and had hastened to forestall any less careful, less tender friend in bearing the sad message.\\nShe did not hear the story as many women have heard the same, with a paralyzed inability to accept its significance. She wept at once, with sudden, wild abandonment, in her sister\\'s arms. When the storm of grief had spent itself she went away to her room alone. She would have no one follow her.\\nThere stood, facing the open window, a comfortable, roomy armchair. Into this she sank, pressed down by a physical exhaustion that haunted her body and seemed to reach into her soul. '"
      ]
     },
     "execution_count": 2,
     "metadata": {},
     "output_type": "execute_result"
    }
   ],
   "source": [
    "t"
   ]
  },
  {
   "cell_type": "code",
   "execution_count": 7,
   "metadata": {},
   "outputs": [],
   "source": [
    "import codecs\n",
    "\n",
    "with codecs.open('hindi.txt', encoding='utf-8') as f:\n",
    "    t = f.read()"
   ]
  },
  {
   "cell_type": "code",
   "execution_count": 8,
   "metadata": {},
   "outputs": [
    {
     "data": {
      "text/plain": [
       "'\"स्वतंत्रता के बाद का भारत पर निबन्ध\" लगभग 200 वर्ष के कठोर संघर्ष के बाद 15 अगस्त, 1947 को भारत माता के क्षितिज पर स्वतंत्रता रूपी सूर्य का उदय हुआ था और हमारी अपनी सरकार सत्ता में आई । युगों की चिर निंद्रा के बाद भारत में नए जीवन का संचार हुआ, परंतु स्वतंत्रता पंजाब, सिन्ध और बंगाल के लोगों के लिए असीम दु:ख और पीड़ा अपने साथ लाई थी । बहुत से पुरुष, महिलाएं और बच्चे उस साम्प्रदायिक उन्माद का शिकार हो गए जो उस समय सारे देश में फैल गया था । स्वतंत्रता के शैशव काल में ही हमारे देश को बड़ी कठिन और जटिल समस्याओं का सामना करना पड़ा । देश का विभाजन हो गया और लाखों लोगों को बेघर होना पड़ा था । हमारी सरकार को उनका पुनर्वास करना पड़ा । उसी समय पाकिस्तान ने कबायली लोगों से कश्मीर पर हमला करवा दिया जबकि कश्मीर भारत में मिल गया था और भारत का एक अंग बन गया था । हैराबाद के रजवाड़ों ने हमारी सरकार के विरूद्ध विद्रोह कर दिया । दूसरे राजा-महाराजाओं ने भी स्वतंत्र राज्य बनाने के प्रयास किए । परन्तु ईश्वर का शुक्र है कि हमारे महान् नेताओं की सहायता से ये सभी कठिनाइयाँ दूर हो गई । स्वतंत्र भारत की प्रथम उपलब्धि देश की विभिन्न इकाइयों को इकठा करना और लगभग 6 सौ राजाओं की रियासतों को देश में मिलाना था । उसने देश और उसके लोगों को एक कर दिया । 26 जनवरी 1950 को एक नए संविधान के अपनाए जाने के बाद भारत को एक ‘गणतंत्र देश’ घोषित कर दिया गया था ।'"
      ]
     },
     "execution_count": 8,
     "metadata": {},
     "output_type": "execute_result"
    }
   ],
   "source": [
    "t"
   ]
  }
 ],
 "metadata": {
  "kernelspec": {
   "display_name": "Python 3",
   "language": "python",
   "name": "python3"
  },
  "language_info": {
   "codemirror_mode": {
    "name": "ipython",
    "version": 3
   },
   "file_extension": ".py",
   "mimetype": "text/x-python",
   "name": "python",
   "nbconvert_exporter": "python",
   "pygments_lexer": "ipython3",
   "version": "3.7.5"
  }
 },
 "nbformat": 4,
 "nbformat_minor": 2
}
